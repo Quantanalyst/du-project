{
 "cells": [
  {
   "cell_type": "code",
   "execution_count": 1,
   "metadata": {},
   "outputs": [],
   "source": [
    "import pandas as pd\n",
    "import numpy as np \n",
    "import matplotlib.pyplot as plt\n",
    "\n",
    "from colorama import Fore\n",
    "from colorama import Style\n",
    "\n",
    "infoloc = \"C:\\\\Users\\\\Saeed Mohajeryami\\\\Dropbox\\\\DOE project\\\\Reports_Slides_Codes\\\\du-project\\\\PI Point List_v13.5.xlsm\"\n",
    "status = pd.read_excel(infoloc,sheet_name=\"PI Status (feedback)\")\n",
    "measurement = pd.read_excel(infoloc, sheet_name='PI Measurement')\n",
    "\n",
    "Fileloc = \"C:\\\\Users\\\\Saeed Mohajeryami\\\\Dropbox\\\\DOE project\\\\tests\\\\9.1 LR-2.csv\"\n",
    "testdata = pd.read_csv(Fileloc)\n",
    "\n",
    "    \n",
    "systemcondition = []\n",
    "for val1 in np.arange(801, 1151):\n",
    "    if (list(status['Description'][status['HR Number'] == val1])[0] == 'RESERVED'):\n",
    "        pass\n",
    "    else:\n",
    "        cond_list = []\n",
    "        D = list(testdata[str(val1)][1:])\n",
    "        lens = len(D)\n",
    "        cond_list.append(val1)\n",
    "        cond_list.append(D[0])\n",
    "        for val2 in np.arange(0, lens - 1):\n",
    "            if (int(D[val2 + 1]) - int(D[val2]) != 0):\n",
    "                time = val2 + 1\n",
    "                cond_list.append(time)\n",
    "        if (len(cond_list) == 2):\n",
    "            cond_list.append('nan')\n",
    "        cond_list.append(D[lens - 1])\n",
    "        systemcondition.append(cond_list)\n",
    "        \n",
    "\n",
    "\n",
    "# for val in np.arange(0, len(systemcondition)):\n",
    "#     if (systemcondition[val][2] != 'nan'):\n",
    "#         print('HR Number ' + str(systemcondition[val][0]) + ' changed : ' +\n",
    "#               list(status['Description'][status['HR Number'] == systemcondition[val][0]])[0])\n",
    "#         changecount = len(systemcondition[val]) - 3\n",
    "#         dstatus = ['open', 'close']\n",
    "#         if (systemcondition[val][1] == '0'):\n",
    "#             for val3 in np.arange(1, changecount + 1):\n",
    "#                 print(dstatus[val3 % 2] + ' at t= ' + str(systemcondition[val][1 + val3]) + ' [sec]')\n",
    "#         else:\n",
    "#             for val3 in np.arange(1, changecount + 1):\n",
    "#                 print(dstatus[(val3 + 1) % 2] + ' at t= ' + str(systemcondition[val][1 + val3]) + ' [sec]')\n",
    "\n"
   ]
  },
  {
   "cell_type": "code",
   "execution_count": 2,
   "metadata": {},
   "outputs": [
    {
     "data": {
      "text/plain": [
       "False"
      ]
     },
     "execution_count": 2,
     "metadata": {},
     "output_type": "execute_result"
    }
   ],
   "source": [
    "int(systemcondition[0][0]) > 863"
   ]
  },
  {
   "cell_type": "code",
   "execution_count": 3,
   "metadata": {
    "scrolled": true
   },
   "outputs": [
    {
     "name": "stdout",
     "output_type": "stream",
     "text": [
      "------------------ Activated/Close operands ---------------------\n",
      "\n",
      "[47, 922, 'Anti-islanding Protection Status']\n",
      "[47, 923, 'Fast Load Shedding Status']\n",
      "[55, 924, 'Loss of Voltage Status']\n",
      "[224, 908, 'CB Disel Synch Check Status']\n",
      "[241, 902, 'PCT 6 Synch Check Status']\n",
      "[266, 879, 'Diesel Island Circuit Breaker Status']\n",
      "\n",
      "------------------ Deactivated/Open operands ---------------------\n",
      "\n",
      "[6, 922, 'Anti-islanding Protection Status']\n",
      "[6, 923, 'Fast Load Shedding Status']\n",
      "[6, 924, 'Loss of Voltage Status']\n",
      "[108, 902, 'PCT 6 Synch Check Status']\n",
      "[108, 908, 'CB Disel Synch Check Status']\n",
      "[141, 879, 'Diesel Island Circuit Breaker Status']\n",
      "\n",
      "------------------ System Shutdown ---------------------\n",
      "\n",
      "[6, 826, 'PCT Switch 1 Status']\n",
      "[15, 863, 'Battery2 Circuit Breaker Status']\n",
      "[19, 862, 'Battery1 Circuit Breaker Status']\n",
      "[27, 859, 'CHP Circuit Breaker Status']\n",
      "[108, 828, 'Circuit Breaker F9 Status']\n",
      "[113, 844, 'Load 213 Status']\n",
      "[113, 846, 'Load 216 Status']\n",
      "[113, 847, 'Load 271 Status']\n",
      "[113, 848, 'Load 218 Status']\n",
      "[113, 852, 'Load 225 Status']\n",
      "[113, 854, 'Load 228 Status']\n",
      "[113, 855, 'Load 232 Status']\n",
      "[113, 856, 'Load 233 Status']\n",
      "[113, 857, 'Load 234 Status']\n",
      "[113, 858, 'Load 235 Status']\n",
      "[141, 805, 'Vista Switch 21 Status']\n",
      "[141, 806, 'Vista Switch 22 Status']\n",
      "[141, 807, 'Vista Switch 23 Status']\n",
      "[141, 821, 'PCL Switch 5 Status']\n",
      "[141, 822, 'PCL Switch 6 Status']\n",
      "[141, 823, 'PCL Switch 7 Status']\n",
      "[141, 824, 'PCL Switch 8 Status']\n",
      "[141, 825, 'PCL Switch 9 Status']\n",
      "[141, 841, 'Load 205 Status']\n",
      "\n",
      "------------------ System Restoration ---------------------\n",
      "\n",
      "[211, 826, 'PCT Switch 1 Status']\n",
      "[211, 855, 'Load 232 Status']\n",
      "[211, 856, 'Load 233 Status']\n",
      "[211, 857, 'Load 234 Status']\n",
      "[211, 858, 'Load 235 Status']\n",
      "[215, 825, 'PCL Switch 9 Status']\n",
      "[220, 824, 'PCL Switch 8 Status']\n",
      "[220, 852, 'Load 225 Status']\n",
      "[220, 854, 'Load 228 Status']\n",
      "[225, 823, 'PCL Switch 7 Status']\n",
      "[241, 822, 'PCL Switch 6 Status']\n",
      "[241, 844, 'Load 213 Status']\n",
      "[246, 821, 'PCL Switch 5 Status']\n",
      "[250, 806, 'Vista Switch 22 Status']\n",
      "[254, 807, 'Vista Switch 23 Status']\n",
      "[254, 841, 'Load 205 Status']\n",
      "[266, 846, 'Load 216 Status']\n",
      "[266, 847, 'Load 271 Status']\n",
      "[266, 848, 'Load 218 Status']\n",
      "[285, 805, 'Vista Switch 21 Status']\n"
     ]
    }
   ],
   "source": [
    "sysre = []\n",
    "syssh = []\n",
    "acsysop = []   # operands activated\n",
    "desysop = []   # operands deactivated\n",
    "\n",
    "for val in np.arange(0, len(systemcondition)):\n",
    "    if (systemcondition[val][2] == 'nan'):\n",
    "        pass\n",
    "    elif (systemcondition[val][2] != 'nan' and int(systemcondition[val][0]) > 863):\n",
    "        changenum = len(systemcondition[val])-3\n",
    "        for val2 in np.arange(0,changenum):\n",
    "            if (systemcondition[val][1] == '0'):\n",
    "                if (val2 % 2 == 0):\n",
    "                    lr = [systemcondition[val][2+val2], int(list(status['HR Number'][status['HR Number'] == systemcondition[val][0]])[0]), list(status['Description'][status['HR Number'] == systemcondition[val][0]])[0]]\n",
    "                    acsysop.append(lr)\n",
    "                else:\n",
    "                    ls = [systemcondition[val][2+val2], int(list(status['HR Number'][status['HR Number'] == systemcondition[val][0]])[0]), list(status['Description'][status['HR Number'] == systemcondition[val][0]])[0]]\n",
    "                    desysop.append(ls)\n",
    "            elif (systemcondition[val][1] == '1'):\n",
    "                if (val2 % 2 == 0):\n",
    "                    ls = [systemcondition[val][2+val2], int(list(status['HR Number'][status['HR Number'] == systemcondition[val][0]])[0]), list(status['Description'][status['HR Number'] == systemcondition[val][0]])[0]]\n",
    "                    desysop.append(ls)\n",
    "                else:\n",
    "                    lr = [systemcondition[val][2+val2], int(list(status['HR Number'][status['HR Number'] == systemcondition[val][0]])[0]), list(status['Description'][status['HR Number'] == systemcondition[val][0]])[0]]\n",
    "                    acsysop.append(lr)  \n",
    "    else:\n",
    "        changenum = len(systemcondition[val])-3\n",
    "        for val2 in np.arange(0,changenum):\n",
    "            if (systemcondition[val][1] == '0'):\n",
    "                if (val2 % 2 == 0):\n",
    "                    lr = [systemcondition[val][2+val2], int(list(status['HR Number'][status['HR Number'] == systemcondition[val][0]])[0]), list(status['Description'][status['HR Number'] == systemcondition[val][0]])[0]]\n",
    "                    sysre.append(lr)\n",
    "                else:\n",
    "                    ls = [systemcondition[val][2+val2], int(list(status['HR Number'][status['HR Number'] == systemcondition[val][0]])[0]), list(status['Description'][status['HR Number'] == systemcondition[val][0]])[0]]\n",
    "                    syssh.append(ls)\n",
    "            elif (systemcondition[val][1] == '1'):\n",
    "                if (val2 % 2 == 0):\n",
    "                    ls = [systemcondition[val][2+val2], int(list(status['HR Number'][status['HR Number'] == systemcondition[val][0]])[0]), list(status['Description'][status['HR Number'] == systemcondition[val][0]])[0]]\n",
    "                    syssh.append(ls)\n",
    "                else:\n",
    "                    lr = [systemcondition[val][2+val2], int(list(status['HR Number'][status['HR Number'] == systemcondition[val][0]])[0]), list(status['Description'][status['HR Number'] == systemcondition[val][0]])[0]]\n",
    "                    sysre.append(lr) \n",
    "                \n",
    "######### Print the results ########\n",
    "syssh = sorted(syssh)\n",
    "sysre = sorted(sysre)\n",
    "acsysop = sorted(acsysop)\n",
    "desysop = sorted(desysop)\n",
    "print('------------------ Activated/Close operands ---------------------\\n')\n",
    "for val in np.arange(0,len(acsysop)):\n",
    "    print(acsysop[val])\n",
    "print('\\n------------------ Deactivated/Open operands ---------------------\\n')\n",
    "for val in np.arange(0,len(desysop)):\n",
    "    print(desysop[val])\n",
    "print('\\n------------------ System Shutdown ---------------------\\n')\n",
    "for val in np.arange(0,len(syssh)):\n",
    "    print(syssh[val])\n",
    "print('\\n------------------ System Restoration ---------------------\\n')\n",
    "for val in np.arange(0,len(sysre)):\n",
    "    print(sysre[val])"
   ]
  },
  {
   "cell_type": "code",
   "execution_count": 4,
   "metadata": {
    "scrolled": true
   },
   "outputs": [
    {
     "data": {
      "text/plain": [
       "820"
      ]
     },
     "execution_count": 4,
     "metadata": {},
     "output_type": "execute_result"
    }
   ],
   "source": [
    "int(list(status['HR Number'][status['HR Number'] == systemcondition[val][0]])[0])"
   ]
  },
  {
   "cell_type": "code",
   "execution_count": 5,
   "metadata": {},
   "outputs": [
    {
     "data": {
      "text/plain": [
       "2"
      ]
     },
     "execution_count": 5,
     "metadata": {},
     "output_type": "execute_result"
    }
   ],
   "source": [
    "changenum"
   ]
  },
  {
   "cell_type": "code",
   "execution_count": 6,
   "metadata": {},
   "outputs": [
    {
     "data": {
      "text/plain": [
       "'PCL Switch 4 Status'"
      ]
     },
     "execution_count": 6,
     "metadata": {},
     "output_type": "execute_result"
    }
   ],
   "source": [
    "list(status['Description'][status['HR Number'] == systemcondition[val][0]])[0]"
   ]
  },
  {
   "cell_type": "code",
   "execution_count": 7,
   "metadata": {},
   "outputs": [
    {
     "ename": "NameError",
     "evalue": "name 'self' is not defined",
     "output_type": "error",
     "traceback": [
      "\u001b[1;31m---------------------------------------------------------------------------\u001b[0m",
      "\u001b[1;31mNameError\u001b[0m                                 Traceback (most recent call last)",
      "\u001b[1;32m<ipython-input-7-f89c08b97e11>\u001b[0m in \u001b[0;36m<module>\u001b[1;34m()\u001b[0m\n\u001b[1;32m----> 1\u001b[1;33m \u001b[0mint\u001b[0m\u001b[1;33m(\u001b[0m\u001b[0mlist\u001b[0m\u001b[1;33m(\u001b[0m\u001b[0mself\u001b[0m\u001b[1;33m.\u001b[0m\u001b[0mstatus\u001b[0m\u001b[1;33m[\u001b[0m\u001b[1;34m'HR Number'\u001b[0m\u001b[1;33m]\u001b[0m\u001b[1;33m[\u001b[0m\u001b[0mself\u001b[0m\u001b[1;33m.\u001b[0m\u001b[0mstatus\u001b[0m\u001b[1;33m[\u001b[0m\u001b[1;34m'HR Number'\u001b[0m\u001b[1;33m]\u001b[0m \u001b[1;33m==\u001b[0m \u001b[0mself\u001b[0m\u001b[1;33m.\u001b[0m\u001b[0mstatuschanges\u001b[0m\u001b[1;33m[\u001b[0m\u001b[0mval\u001b[0m\u001b[1;33m]\u001b[0m\u001b[1;33m[\u001b[0m\u001b[1;36m0\u001b[0m\u001b[1;33m]\u001b[0m\u001b[1;33m]\u001b[0m\u001b[1;33m)\u001b[0m\u001b[1;33m[\u001b[0m\u001b[1;36m0\u001b[0m\u001b[1;33m]\u001b[0m\u001b[1;33m)\u001b[0m\u001b[1;33m\u001b[0m\u001b[0m\n\u001b[0m",
      "\u001b[1;31mNameError\u001b[0m: name 'self' is not defined"
     ]
    }
   ],
   "source": [
    "int(list(self.status['HR Number'][self.status['HR Number'] == self.statuschanges[val][0]])[0])"
   ]
  },
  {
   "cell_type": "code",
   "execution_count": 49,
   "metadata": {
    "scrolled": true
   },
   "outputs": [
    {
     "data": {
      "text/plain": [
       "Text(0,0.5,'Frequency (Hz)')"
      ]
     },
     "execution_count": 49,
     "metadata": {},
     "output_type": "execute_result"
    },
    {
     "data": {
      "image/png": "[encoded data removed]",
      "text/plain": [
       "<matplotlib.figure.Figure at 0x214b29c7278>"
      ]
     },
     "metadata": {},
     "output_type": "display_data"
    }
   ],
   "source": [
    "import pandas as pd\n",
    "import numpy as np \n",
    "import matplotlib.pyplot as plt\n",
    "\n",
    "% matplotlib inline\n",
    "\n",
    "Fileloc = \"C:\\\\Users\\\\Saeed Mohajeryami\\\\Dropbox\\\\DOE project\\\\tests\\\\PQ tests - PMU data\\\\PQ-1\\\\PQ-1-PMU_B102.csv\"\n",
    "\n",
    "testdata = pd.read_csv(Fileloc)\n",
    "\n",
    "frequency = pd.DataFrame()\n",
    "frequency['freq'] = testdata.iloc[:,26]\n",
    "time = pd.DataFrame(np.arange(0, len(frequency)))\n",
    "time = time.apply(lambda x: x / 60)\n",
    "fig, axes = plt.subplots(nrows=1, ncols=1)  ## create a subplot\n",
    "# st = fig.suptitle(\"F_11 Breaker Voltage\", fontsize=\"x-large\")\n",
    "\n",
    "## plot  frequency\n",
    "axes.plot(time, frequency)\n",
    "axes.set_ylim([59.5, 60.5])\n",
    "axes.set_xlabel('time(sec)')\n",
    "axes.set_ylabel('Frequency (Hz)')\n",
    "\n",
    "\n",
    "# Vol = pd.DataFrame()\n",
    "# Vol[['VAmag', 'VAang', 'VBmag', 'VBang', 'VCmag', 'VCang']] = testdata.iloc[:, 2:8]\n",
    "\n",
    "# Volseq = pd.DataFrame()\n",
    "# Volseq[['V1mag', 'V1ang', 'V0mag', 'V0ang']] = testdata.iloc[:, 14:18]  ## positive and zero sequence\n",
    "# Volseq[['V2mag', 'V2ang']] = testdata.iloc[:, 22:24]   # negative sequence\n",
    "# time = pd.DataFrame(np.arange(0, len(Volseq)))\n",
    "# time = time.apply(lambda x: x / 60)\n",
    "        \n",
    "        \n",
    "# Cur = pd.DataFrame()\n",
    "# Cur[['IAmag', 'IAang', 'IBmag', 'IBang', 'ICmag', 'ICang']] = testdata.iloc[:, 8:14]\n",
    "\n",
    "# IB102 = testdata.iloc[:, 8:14]\n",
    "# VB102SQ = testdata.iloc[:, 14:18]\n",
    "# IB102SQ = testdata.iloc[:, 18:22]\n",
    "# VB102SQ[['PMU_B102:PHASOR CH 11:V2:Magnitude', 'PMU_B102:PHASOR CH 11:V2:Angle']] = testdata.iloc[:, 22:24]\n",
    "# IB102SQ[['PMU_B102:PHASOR CH 12:I2:Magnitude', 'PMU_B102:PHASOR CH 12:I2:Angle']] = testdata.iloc[:, 24:26]\n",
    "\n",
    "\n",
    "# time = pd.DataFrame(np.arange(0, len(Cur)))\n",
    "# time = time.apply(lambda x: x / 60)\n",
    "\n",
    "# fig, axes = plt.subplots(nrows=2, ncols=3)  ## create a subplot\n",
    "# # st = fig.suptitle(\"F_11 Breaker Voltage\", fontsize=\"x-large\")\n",
    "\n",
    "# ## plot  phase A current magnitude (Amp)\n",
    "# axes[0, 0].plot(time, Cur.iloc[:, 0])\n",
    "# axes[0, 0].set_ylim([0, 1.1*max(Cur.iloc[:, 0])])\n",
    "# axes[0, 0].set_xlabel('time(sec)')\n",
    "# axes[0, 0].set_ylabel('Phase A Current Magnitude (A)')\n",
    "\n",
    "# ## plot current phase A angle \n",
    "# axes[1, 0].plot(time, Cur.iloc[:, 1])\n",
    "# if (max(Cur.iloc[:, 1]) > 0 and min(Cur.iloc[:, 1]) > 0):\n",
    "#     axes[1, 0].set_ylim([0.95 * min(Cur.iloc[:, 1]), 1.05 * max(Cur.iloc[:, 1])])\n",
    "# elif (max(Cur.iloc[:, 1]) > 0 and min(Cur.iloc[:, 1]) < 0):\n",
    "#     axes[1, 0].set_ylim([1.05 * min(Cur.iloc[:, 1]), 1.05 * max(Cur.iloc[:, 1])])\n",
    "# elif (max(Cur.iloc[:, 1]) < 0):\n",
    "#     axes[1, 0].set_ylim([1.05 * min(Cur.iloc[:, 1]), 0.95 * max(Cur.iloc[:, 1])])\n",
    "# axes[1, 0].set_xlabel('time(sec)')\n",
    "# axes[1, 0].set_ylabel('Phase A Current Angle (degree)')\n",
    "\n",
    "# ## plot phase B current magnitude (per unit)\n",
    "# axes[0, 1].plot(time, Cur.iloc[:, 2])\n",
    "# axes[0, 1].set_ylim([0, 1.1*max(Cur.iloc[:, 2])])\n",
    "# axes[0, 1].set_xlabel('time(sec)')\n",
    "# axes[0, 1].set_ylabel('Phase B Current Magnitude (p.u.)')\n",
    "\n",
    "# ## plot phase B current angle (Amps)\n",
    "# axes[1, 1].plot(time, Cur.iloc[:, 3])\n",
    "# if (max(Cur.iloc[:, 3]) > 0 and min(Cur.iloc[:, 3]) > 0):\n",
    "#     axes[1, 1].set_ylim([0.95 * min(Cur.iloc[:, 3]), 1.05 * max(Cur.iloc[:, 3])])\n",
    "# elif (max(Cur.iloc[:, 3]) > 0 and min(Cur.iloc[:, 3]) < 0):\n",
    "#     axes[1, 1].set_ylim([1.05 * min(Cur.iloc[:, 3]), 1.05 * max(Cur.iloc[:, 3])])\n",
    "# elif (max(Cur.iloc[:, 3]) < 0):\n",
    "#     axes[1, 1].set_ylim([1.05 * min(Cur.iloc[:, 3]), 0.95 * max(Cur.iloc[:, 3])])\n",
    "# axes[1, 1].set_xlabel('time(sec)')\n",
    "# axes[1, 1].set_ylabel('Phase B Current Angle (degree)')\n",
    "\n",
    "# ## plot voltage phase C magnitude (per unit)\n",
    "# axes[0, 2].plot(time, Cur.iloc[:, 4])\n",
    "# axes[0, 2].set_ylim([0, 1.1*max(Cur.iloc[:, 4])])\n",
    "# axes[0, 2].set_xlabel('time(sec)')\n",
    "# axes[0, 2].set_ylabel('Phase C Current Magnitude (p.u.)')\n",
    "\n",
    "# ## plot voltage phase C angle \n",
    "# axes[1, 2].plot(time, Cur.iloc[:, 5])\n",
    "# if (max(Cur.iloc[:, 5]) > 0 and min(Cur.iloc[:, 5]) > 0):\n",
    "#     axes[1, 2].set_ylim([0.95 * min(Cur.iloc[:, 5]), 1.05 * max(Cur.iloc[:, 5])])\n",
    "# elif (max(Cur.iloc[:, 5]) > 0 and min(Cur.iloc[:, 3]) < 0):\n",
    "#     axes[1, 2].set_ylim([1.05 * min(Cur.iloc[:, 5]), 1.05 * max(Cur.iloc[:, 5])])\n",
    "# elif (max(Cur.iloc[:, 5]) < 0):\n",
    "#     axes[1, 2].set_ylim([1.05 * min(Cur.iloc[:, 5]), 0.95 * max(Cur.iloc[:, 5])])\n",
    "# axes[1, 2].set_xlabel('time(sec)')\n",
    "# axes[1, 2].set_ylabel('Phase C Current Angle (degree)')\n",
    "\n",
    "# fig, axes = plt.subplots(nrows=1, ncols=2)  ## create a subplot\n",
    "# # st = fig.suptitle(\"F_11 Breaker Voltage\", fontsize=\"x-large\")\n",
    "\n",
    "# ## plot all angles in one plot \n",
    "# axes[0].plot(time, Cur.iloc[:, 1])\n",
    "# axes[0].plot(time, Cur.iloc[:, 3])\n",
    "# axes[0].plot(time, Cur.iloc[:, 5])\n",
    "# axes[0].set_xlabel('time(sec)')\n",
    "# axes[0].set_ylabel('3-phase Current Angles (degree)')\n",
    "\n",
    "# ## plot all magnitudes in one plot \n",
    "# axes[1].plot(time, Cur.iloc[:, 0])\n",
    "# axes[1].plot(time, Cur.iloc[:, 2])\n",
    "# axes[1].plot(time, Cur.iloc[:, 4])\n",
    "# axes[1].set_ylim([0, 1.1*max([max(Cur.iloc[:, 0]),max(Cur.iloc[:, 2]),max(Cur.iloc[:, 4])])])\n",
    "# axes[1].set_xlabel('time(sec)')\n",
    "# axes[1].set_ylabel('3-phase Current Magnitudes (A)')"
   ]
  },
  {
   "cell_type": "code",
   "execution_count": 37,
   "metadata": {},
   "outputs": [],
   "source": [
    "import pandas as pd\n",
    "import numpy as np \n",
    "import matplotlib.pyplot as plt\n",
    "\n",
    "% matplotlib inline\n",
    "\n",
    "Fileloc = \"C:\\\\Users\\\\Saeed Mohajeryami\\\\Dropbox\\\\DOE project\\\\tests\\\\PQ tests - PMU data\\\\PQ-1\\\\PQ-1-PMU_B102.csv\"\n",
    "\n",
    "testdata = pd.read_csv(Fileloc)"
   ]
  },
  {
   "cell_type": "code",
   "execution_count": 44,
   "metadata": {},
   "outputs": [
    {
     "data": {
      "text/html": [
       "<div>\n",
       "<style scoped>\n",
       "    .dataframe tbody tr th:only-of-type {\n",
       "        vertical-align: middle;\n",
       "    }\n",
       "\n",
       "    .dataframe tbody tr th {\n",
       "        vertical-align: top;\n",
       "    }\n",
       "\n",
       "    .dataframe thead th {\n",
       "        text-align: right;\n",
       "    }\n",
       "</style>\n",
       "<table border=\"1\" class=\"dataframe\">\n",
       "  <thead>\n",
       "    <tr style=\"text-align: right;\">\n",
       "      <th></th>\n",
       "      <th>freq</th>\n",
       "    </tr>\n",
       "  </thead>\n",
       "  <tbody>\n",
       "    <tr>\n",
       "      <th>0</th>\n",
       "      <td>59.9703</td>\n",
       "    </tr>\n",
       "    <tr>\n",
       "      <th>1</th>\n",
       "      <td>59.8102</td>\n",
       "    </tr>\n",
       "    <tr>\n",
       "      <th>2</th>\n",
       "      <td>60.0437</td>\n",
       "    </tr>\n",
       "    <tr>\n",
       "      <th>3</th>\n",
       "      <td>60.1696</td>\n",
       "    </tr>\n",
       "    <tr>\n",
       "      <th>4</th>\n",
       "      <td>60.0189</td>\n",
       "    </tr>\n",
       "  </tbody>\n",
       "</table>\n",
       "</div>"
      ],
      "text/plain": [
       "      freq\n",
       "0  59.9703\n",
       "1  59.8102\n",
       "2  60.0437\n",
       "3  60.1696\n",
       "4  60.0189"
      ]
     },
     "execution_count": 44,
     "metadata": {},
     "output_type": "execute_result"
    }
   ],
   "source": [
    "frequency.head()"
   ]
  },
  {
   "cell_type": "code",
   "execution_count": 214,
   "metadata": {},
   "outputs": [],
   "source": [
    "import pandas as pd\n",
    "import numpy as np \n",
    "import matplotlib.pyplot as plt\n",
    "import os\n",
    "\n",
    "%matplotlib inline\n",
    "\n",
    "ecdrnum = '1'\n",
    "path = \"C:\\\\Users\\\\Saeed Mohajeryami\\\\Dropbox\\\\DOE project\\\\tests\\\\ECDR\\\\ECDR\\\\ECDR\"\n",
    "Inputloc = path + \"\\\\ECDR-\" + ecdrnum + \"-Input.xlsx\"\n",
    "Resultloc = path + \"\\\\ECDR-\" + ecdrnum + \"-Result.xlsx\"\n",
    "businput = pd.read_excel(Inputloc, sheet_name='Bus')\n",
    "windinput = pd.read_excel(Inputloc, sheet_name='Wind Unit')\n",
    "loadinput = pd.read_excel(Inputloc, sheet_name='Spot Load')\n",
    "elecpriceinput = pd.read_excel(Inputloc, sheet_name='Electricity Price')\n",
    "fossildispatchresult = pd.read_excel(Resultloc, sheet_name='Fossil Dispatch')\n",
    "chpthermalgenerationresult = pd.read_excel(Resultloc, sheet_name='CHP Thermal Generation')\n",
    "griddispatchresult = pd.read_excel(Resultloc, sheet_name='Grid Dispatch')\n",
    "batterydispatchresult = pd.read_excel(Resultloc, sheet_name='Battery Dispatch')\n",
    "powerflowresult = pd.read_excel(Resultloc, sheet_name='Power Flow Solution')\n",
    "buspowerinjectionresult = pd.read_excel(Resultloc, sheet_name='Bus Power Injection and Voltage')\n",
    "loadafterdrresult = pd.read_excel(Resultloc, sheet_name='Spot Load after DR')\n",
    "\n",
    "### loads #####\n",
    "loadinput['P'] =  loadinput[['PA','PB','PC']].sum(1)\n",
    "loadinput['Q'] =  loadinput[['QA','QB','QC']].sum(1)\n",
    "Busno = list(loadinput['BusNo'].unique())    ### list of unique buses\n",
    "time = np.arange(1,25)\n",
    "\n",
    "## subsystem 1 before\n",
    "dailyloadP = []\n",
    "dailyloadQ = []\n",
    "for val in np.arange(1,25):\n",
    "    dailyloadP.append(loadinput[loadinput['iHour']== val][loadinput[loadinput['iHour']== val]['BusNo'] < 200]['P'].sum())\n",
    "    dailyloadQ.append(loadinput[loadinput['iHour']== val][loadinput[loadinput['iHour']== val]['BusNo'] < 200]['Q'].sum())\n",
    "\n",
    "sub1befdailyP = dailyloadP\n",
    "sub1befdailyQ = dailyloadQ\n",
    "\n",
    "## subsystem 2 before\n",
    "dailyloadP = []\n",
    "dailyloadQ = []\n",
    "for val in np.arange(1,25):\n",
    "    dailyloadP.append(loadinput[loadinput['iHour']== val][loadinput[loadinput['iHour']== val]['BusNo'] > 200]['P'].sum())\n",
    "    dailyloadQ.append(loadinput[loadinput['iHour']== val][loadinput[loadinput['iHour']== val]['BusNo'] > 200]['Q'].sum())\n",
    "\n",
    "sub2befdailyP = dailyloadP\n",
    "sub2befdailyQ = dailyloadQ\n",
    "\n",
    "#### loads after DR #####\n",
    "loadafterdrresult['P'] =  loadafterdrresult[['PA','PB','PC']].sum(1)\n",
    "loadafterdrresult['Q'] =  loadafterdrresult[['QA','QB','QC']].sum(1)\n",
    "Busno = list(loadafterdrresult['BusNo'].unique())    ### list of unique buses\n",
    "time = np.arange(1,25)\n",
    "\n",
    "## subsystem 1 after\n",
    "dailyloadP = []\n",
    "dailyloadQ = []\n",
    "for val in np.arange(1,25):\n",
    "    dailyloadP.append(loadafterdrresult[loadafterdrresult['iHour']== val][loadafterdrresult[loadafterdrresult['iHour']== val]['BusNo'] < 200]['P'].sum())\n",
    "    dailyloadQ.append(loadafterdrresult[loadafterdrresult['iHour']== val][loadafterdrresult[loadafterdrresult['iHour']== val]['BusNo'] < 200]['Q'].sum())\n",
    "\n",
    "sub1aftdailyP = dailyloadP\n",
    "sub1aftdailyQ = dailyloadQ\n",
    "\n",
    "## subsystem 2 after\n",
    "dailyloadP = []\n",
    "dailyloadQ = []\n",
    "for val in np.arange(1,25):\n",
    "    dailyloadP.append(loadafterdrresult[loadafterdrresult['iHour']== val][loadafterdrresult[loadafterdrresult['iHour']== val]['BusNo'] > 200]['P'].sum())\n",
    "    dailyloadQ.append(loadafterdrresult[loadafterdrresult['iHour']== val][loadafterdrresult[loadafterdrresult['iHour']== val]['BusNo'] > 200]['Q'].sum())\n",
    "\n",
    "sub2aftdailyP = dailyloadP\n",
    "sub2aftdailyQ = dailyloadQ\n",
    "\n",
    "# dailyload = [sub1befdailyP,sub1befdailyQ,sub2befdailyP,sub2befdailyQ,sub1aftdailyP,sub1aftdailyQ,sub2aftdailyP,sub2aftdailyQ]\n",
    "## PLOT LOADS BEFORE AND AFTER DR\n",
    "# fig, axes = plt.subplots(nrows=2, ncols=2)  ## create a subplot\n",
    "\n",
    "## plot daily load of subsystem 1 (kW)\n",
    "# axes[0,0].plot(time, sub1befdailyP, 'r--', time, sub1aftdailyP, 'g' )        \n",
    "# axes[0,0].set_xticks([1,4,8,12,16,20,24])\n",
    "# axes[0,0].set_xticklabels(['1','4','8','12','16','20','24'])\n",
    "# if (max([max(sub1befdailyP),max(sub1aftdailyP)]) > 0 and min([min(sub1befdailyP),min(sub1aftdailyP)]) > 0):\n",
    "#     axes[0,0].set_ylim([0, 1.1*max([max(sub1befdailyP),max(sub1aftdailyP)])])\n",
    "# elif (max([max(sub1befdailyP),max(sub1aftdailyP)]) > 0 and min([min(sub1befdailyP),min(sub1aftdailyP)]) < 0):\n",
    "#     axes[0,0].set_ylim([1.1*min([min(sub1befdailyP),min(sub1aftdailyP)]), 1.1*max([max(sub1befdailyP),max(sub1aftdailyP)])])\n",
    "# elif (max([max(sub1befdailyP),max(sub1aftdailyP)]) < 0):\n",
    "#     axes[0,0].set_ylim([1.1*min([min(sub1befdailyP),min(sub1aftdailyP)]), 0])\n",
    "# axes[0,0].set_xlabel('time(hour)')\n",
    "# axes[0,0].set_ylabel('Subsystem 1 load \\nactive power (kW)')\n",
    "\n",
    "## plot daily load of subsystem 1 (kVAr)\n",
    "# axes[1,0].plot(time, sub1befdailyQ, 'r--', time, sub1aftdailyQ, 'g' )  \n",
    "# axes[1,0].set_xticks([1,4,8,12,16,20,24])\n",
    "# axes[1,0].set_xticklabels(['1','4','8','12','16','20','24'])\n",
    "# if (max([max(sub1befdailyQ),max(sub1aftdailyQ)]) > 0 and min([min(sub1befdailyQ),min(sub1aftdailyQ)]) > 0):\n",
    "#     axes[1,0].set_ylim([0, 1.1*max([max(sub1befdailyQ),max(sub1aftdailyQ)])])\n",
    "# elif (max([max(sub1befdailyQ),max(sub1aftdailyQ)]) > 0 and min([min(sub1befdailyQ),min(sub1aftdailyQ)]) < 0):\n",
    "#     axes[1,0].set_ylim([1.1*min([min(sub1befdailyQ),min(sub1aftdailyQ)]), 1.1*max([max(sub1befdailyQ),max(sub1aftdailyQ)])])\n",
    "# elif (max([max(sub1befdailyQ),max(sub1aftdailyQ)]) < 0):\n",
    "#     axes[1,0].set_ylim([1.1*min([min(sub1befdailyQ),min(sub1aftdailyQ)]), 0])\n",
    "# axes[1,0].set_xlabel('time(hour)')\n",
    "# axes[1,0].set_ylabel('Subsystem 1 load \\nreactive power (kVAr)')\n",
    "\n",
    "# plot daily load of subsystem 2 (kW)\n",
    "# axes[0,1].plot(time, sub2befdailyP, 'r--', time, sub2aftdailyP, 'g' )        \n",
    "# axes[0,1].set_xticks([1,4,8,12,16,20,24])\n",
    "# axes[0,1].set_xticklabels(['1','4','8','12','16','20','24'])\n",
    "# if (max([max(sub2befdailyP),max(sub2aftdailyP)]) > 0 and min([min(sub2befdailyP),min(sub2aftdailyP)]) > 0):\n",
    "#     axes[0,1].set_ylim([0, 1.1*max([max(sub2befdailyP),max(sub2aftdailyP)])])\n",
    "# elif (max([max(sub2befdailyP),max(sub2aftdailyP)]) > 0 and min([min(sub2befdailyP),min(sub2aftdailyP)]) < 0):\n",
    "#     axes[0,1].set_ylim([1.1*min([min(sub2befdailyP),min(sub2aftdailyP)]), 1.1*max([max(sub2befdailyP),max(sub2aftdailyP)])])\n",
    "# elif (max([max(sub2befdailyP),max(sub2aftdailyP)]) < 0):\n",
    "#     axes[0,1].set_ylim([1.1*min([min(sub2befdailyP),min(sub2aftdailyP)]), 0])\n",
    "# axes[0,1].set_xlabel('time(hour)')\n",
    "# axes[0,1].set_ylabel('Subsystem 2 load \\nactive power (kW)')\n",
    "\n",
    "## plot daily load of subsystem 2 (kVAr)\n",
    "# axes[1,1].plot(time, sub2befdailyQ, 'r--', time, sub2aftdailyQ, 'g' )  \n",
    "# axes[1,1].set_xticks([1,4,8,12,16,20,24])\n",
    "# axes[1,1].set_xticklabels(['1','4','8','12','16','20','24'])\n",
    "# if (max([max(sub2befdailyQ),max(sub2aftdailyQ)]) > 0 and min([min(sub2befdailyQ),min(sub2aftdailyQ)]) > 0):\n",
    "#     axes[1,1].set_ylim([0, 1.1*max([max(sub2befdailyQ),max(sub2aftdailyQ)])])\n",
    "# elif (max([max(sub2befdailyQ),max(sub2aftdailyQ)]) > 0 and min([min(sub2befdailyQ),min(sub2aftdailyQ)]) < 0):\n",
    "#     axes[1,1].set_ylim([1.1*min([min(sub2befdailyQ),min(sub2aftdailyQ)]), 1.1*max([max(sub2befdailyQ),max(sub2aftdailyQ)])])\n",
    "# elif (max([max(sub2befdailyQ),max(sub2aftdailyQ)]) < 0):\n",
    "#     axes[1,1].set_ylim([1.1*min([min(sub2befdailyQ),min(sub2aftdailyQ)]), 0])\n",
    "# axes[1,1].set_xlabel('time(hour)')\n",
    "# axes[1,1].set_ylabel('Subsystem 2 load \\nreactive power (kVAr)')\n",
    "# \n",
    "# plt.tight_layout()"
   ]
  },
  {
   "cell_type": "code",
   "execution_count": 220,
   "metadata": {},
   "outputs": [
    {
     "data": {
      "text/plain": [
       "True"
      ]
     },
     "execution_count": 220,
     "metadata": {},
     "output_type": "execute_result"
    }
   ],
   "source": [
    "windinput.empty"
   ]
  },
  {
   "cell_type": "code",
   "execution_count": null,
   "metadata": {},
   "outputs": [],
   "source": []
  },
  {
   "cell_type": "code",
   "execution_count": 203,
   "metadata": {
    "scrolled": true
   },
   "outputs": [
    {
     "name": "stderr",
     "output_type": "stream",
     "text": [
      "C:\\Pythoni\\Anaconda3\\lib\\site-packages\\ipykernel_launcher.py:35: MatplotlibDeprecationWarning: pyplot.hold is deprecated.\n",
      "    Future behavior will be consistent with the long-time default:\n",
      "    plot commands add elements without first clearing the\n",
      "    Axes and/or Figure.\n",
      "C:\\Pythoni\\Anaconda3\\lib\\site-packages\\matplotlib\\__init__.py:805: MatplotlibDeprecationWarning: axes.hold is deprecated. Please remove it from your matplotlibrc and/or style files.\n",
      "  mplDeprecation)\n",
      "C:\\Pythoni\\Anaconda3\\lib\\site-packages\\matplotlib\\rcsetup.py:155: MatplotlibDeprecationWarning: axes.hold is deprecated, will be removed in 3.0\n",
      "  mplDeprecation)\n",
      "C:\\Pythoni\\Anaconda3\\lib\\site-packages\\ipykernel_launcher.py:46: MatplotlibDeprecationWarning: pyplot.hold is deprecated.\n",
      "    Future behavior will be consistent with the long-time default:\n",
      "    plot commands add elements without first clearing the\n",
      "    Axes and/or Figure.\n"
     ]
    },
    {
     "data": {
      "text/plain": [
       "Text(0,0.5,'Subsystem 2 Supply and Demand power (kVA)')"
      ]
     },
     "execution_count": 203,
     "metadata": {},
     "output_type": "execute_result"
    },
    {
     "data": {
      "image/png": "[encoded data removed]",
      "text/plain": [
       "<matplotlib.figure.Figure at 0x1cc9ce224e0>"
      ]
     },
     "metadata": {},
     "output_type": "display_data"
    }
   ],
   "source": [
    "CHP = fossildispatchresult.iloc[0, 2:]\n",
    "Diesel = fossildispatchresult.iloc[1, 2:]\n",
    "battery1 = batterydispatchresult.iloc[0, 2:]\n",
    "battery2 = batterydispatchresult.iloc[1, 2:]\n",
    "Substation1 = griddispatchresult.iloc[0, 2:]\n",
    "Substation2 = griddispatchresult.iloc[1, 2:]\n",
    "\n",
    "Sub1Q = np.array(powerflowresult[powerflowresult['frombusno']==101]['q'])\n",
    "Sub2Q = np.array(powerflowresult[powerflowresult['frombusno']==201]['q'])\n",
    "newQ1 = []\n",
    "newQ2 = []\n",
    "for val in np.arange(0,24):\n",
    "    newQ1.append(Sub1Q[3*val]+Sub1Q[3*val+1]+Sub1Q[3*val+2])\n",
    "    newQ2.append(Sub2Q[3*val]+Sub2Q[3*val+1]+Sub2Q[3*val+2])\n",
    "Sub1Q = newQ1\n",
    "Sub2Q = newQ2\n",
    "\n",
    "Substation1 = [np.sqrt(d1**2 + d2**2) for (d1, d2) in zip(Substation1, Sub1Q)]\n",
    "Substation2 = [np.sqrt(d1**2 + d2**2) for (d1, d2) in zip(Substation2, Sub2Q)]\n",
    "\n",
    "CHPth = chpthermalgenerationresult.iloc[0,1:]\n",
    "Supply1 = [g1 + g3 + g4 + g5 + g7 for (g1, g2, g3, g4, g5, g6, g7) in zip(CHP, Diesel, battery1, battery2, Substation1, Substation2, CHPth)]\n",
    "Supply2 = [g2 + g6 for (g1, g2, g3, g4, g5, g6, g7) in zip(CHP, Diesel, battery1, battery2, Substation1, Substation2, CHPth)]\n",
    "Demand1 = [np.sqrt(d1**2 + d2**2) for (d1, d2, d3, d4) in zip(sub1aftdailyP, sub1aftdailyQ, sub2aftdailyP, sub2aftdailyQ)]\n",
    "Demand2 = [np.sqrt(d3**2 + d4**2) for (d1, d2, d3, d4) in zip(sub1aftdailyP, sub1aftdailyQ, sub2aftdailyP, sub2aftdailyQ)]\n",
    "time = np.arange(1,25)\n",
    "\n",
    "# Demand1 = np.array(Demand1)\n",
    "# Supply1 = np.array(Supply1)\n",
    "# time = np.array(time)\n",
    "\n",
    "fig, axes = plt.subplots(nrows=1, ncols=2)  ## create a subplot\n",
    "\n",
    "axes[0].plot(time, Demand1, 'r--', label='Demand')  ### demand\n",
    "plt.hold(True)\n",
    "axes[0].plot(time, Supply1, 'g', label='Supply')  ### supply\n",
    "axes[0].legend(loc=\"upper right\")\n",
    "# axes[0].plot(time, Demand1, 'r--', time, Supply1, 'g' )        \n",
    "axes[0].set_xticks([1,4,8,12,16,20,24])\n",
    "axes[0].set_xticklabels(['1','4','8','12','16','20','24'])\n",
    "axes[0].set_ylim([0,1.1*max([max(Supply1),max(Demand1)])])\n",
    "axes[0].set_xlabel('time(hour)')\n",
    "axes[0].set_ylabel('Subsystem 1 Supply and Demand power (kVA)')\n",
    "\n",
    "axes[1].plot(time, Demand2, 'r--', label='Demand')  ### demand\n",
    "plt.hold(True)\n",
    "axes[1].plot(time, Supply2, 'g', label='Supply')  ### supply\n",
    "axes[1].legend(loc=\"upper right\")\n",
    "# axes[0].plot(time, Demand1, 'r--', time, Supply1, 'g' )        \n",
    "axes[1].set_xticks([1,4,8,12,16,20,24])\n",
    "axes[1].set_xticklabels(['1','4','8','12','16','20','24'])\n",
    "axes[1].set_ylim([0,1.1*max([max(Supply1),max(Demand1)])])\n",
    "axes[1].set_xlabel('time(hour)')\n",
    "axes[1].set_ylabel('Subsystem 2 Supply and Demand power (kVA)')\n"
   ]
  },
  {
   "cell_type": "code",
   "execution_count": 193,
   "metadata": {},
   "outputs": [
    {
     "data": {
      "text/plain": [
       "[416.73,\n",
       " 348.22999999999996,\n",
       " 348.22999999999996,\n",
       " 348.22999999999996,\n",
       " 348.22999999999996,\n",
       " 356.73,\n",
       " 356.73,\n",
       " 399.43999999999994,\n",
       " 468.45000000000005,\n",
       " 503.15,\n",
       " 503.15,\n",
       " 538.15,\n",
       " 538.15,\n",
       " 538.15,\n",
       " 564.41,\n",
       " 661.49,\n",
       " 652.61,\n",
       " 573.1700000000001,\n",
       " 555.65,\n",
       " 503.15,\n",
       " 477.11,\n",
       " 468.45000000000005,\n",
       " 451.16999999999996,\n",
       " 433.93999999999994]"
      ]
     },
     "execution_count": 193,
     "metadata": {},
     "output_type": "execute_result"
    }
   ],
   "source": [
    "# [x - y for (x,y) in zip(Demand1,Supply1)]\n",
    "Sub1Q = np.array(powerflowresult[powerflowresult['frombusno']==101]['q'])\n",
    "Sub2Q = np.array(powerflowresult[powerflowresult['frombusno']==201]['q'])\n",
    "newQ1 = []\n",
    "newQ2 = []\n",
    "for val in np.arange(0,24):\n",
    "    newQ1.append(Sub1Q[3*val]+Sub1Q[3*val+1]+Sub1Q[3*val+2])\n",
    "    newQ2.append(Sub2Q[3*val]+Sub2Q[3*val+1]+Sub2Q[3*val+2])\n",
    "Sub1Q = newQ1\n",
    "Sub2Q = newQ2"
   ]
  },
  {
   "cell_type": "code",
   "execution_count": 32,
   "metadata": {},
   "outputs": [
    {
     "name": "stdout",
     "output_type": "stream",
     "text": [
      "-677.19 kVA Load reduction at t=16 h\n",
      "-1429.71 kVA Load reduction at t=17 h\n",
      "-571.59 kVA Load reduction at t=18 h\n"
     ]
    }
   ],
   "source": [
    "DemandResponse = [L1 - L2 for (L1, L2) in zip(aftdailyP, befdailyP)]\n",
    "\n",
    "for val in np.arange(1,25):\n",
    "    if (DemandResponse[val-1] < 0):\n",
    "        print(str(round(DemandResponse[val-1],2)) + ' kVA Load reduction at t=' + str(val) + ' h')\n",
    "    elif (DemandResponse[val-1] > 0):\n",
    "        print(str(round(DemandResponse[val-1],2)) + ' kVA Load increase at t=' + str(val) + ' h')"
   ]
  },
  {
   "cell_type": "code",
   "execution_count": 29,
   "metadata": {},
   "outputs": [
    {
     "data": {
      "text/plain": [
       "677.198"
      ]
     },
     "execution_count": 29,
     "metadata": {},
     "output_type": "execute_result"
    }
   ],
   "source": [
    "x = round(677.198083478,3)\n",
    "x"
   ]
  },
  {
   "cell_type": "code",
   "execution_count": 15,
   "metadata": {},
   "outputs": [],
   "source": [
    "import pandas as pd\n",
    "import numpy as np \n",
    "import matplotlib.pyplot as plt\n",
    "import os\n",
    "\n",
    "%matplotlib inline\n",
    "\n",
    "ecdrnum = '2'\n",
    "path = \"C:\\\\Users\\\\Saeed Mohajeryami\\\\Dropbox\\\\DOE project\\\\tests\\\\ECDR\\\\ECDR\\\\ECDR\"\n",
    "Inputloc = path + \"\\\\ECDR-\" + ecdrnum + \"-Input.xlsx\"\n",
    "Resultloc = path + \"\\\\ECDR-\" + ecdrnum + \"-Result.xlsx\"\n",
    "businput = pd.read_excel(Inputloc, sheet_name='Bus')\n",
    "loadinput = pd.read_excel(Inputloc, sheet_name='Spot Load')\n",
    "elecpriceinput = pd.read_excel(Inputloc, sheet_name='Electricity Price')\n",
    "fossildispatchresult = pd.read_excel(Resultloc, sheet_name='Fossil Dispatch')\n",
    "griddispatchresult = pd.read_excel(Resultloc, sheet_name='Grid Dispatch')\n",
    "batterydispatchresult = pd.read_excel(Resultloc, sheet_name='Battery Dispatch')\n",
    "powerflowresult = pd.read_excel(Resultloc, sheet_name='Power Flow Solution')\n",
    "buspowerinjectionresult = pd.read_excel(Resultloc, sheet_name='Bus Power Injection and Voltage')\n",
    "loaddemandresponseresult = pd.read_excel(Resultloc, sheet_name='Load Demand Response')\n",
    "loadafterdrresult = pd.read_excel(Resultloc, sheet_name='Spot Load after DR')\n",
    "\n"
   ]
  },
  {
   "cell_type": "code",
   "execution_count": 12,
   "metadata": {},
   "outputs": [
    {
     "name": "stderr",
     "output_type": "stream",
     "text": [
      "C:\\Pythoni\\Anaconda3\\lib\\site-packages\\ipykernel_launcher.py:13: MatplotlibDeprecationWarning: pyplot.hold is deprecated.\n",
      "    Future behavior will be consistent with the long-time default:\n",
      "    plot commands add elements without first clearing the\n",
      "    Axes and/or Figure.\n",
      "  del sys.path[0]\n",
      "C:\\Pythoni\\Anaconda3\\lib\\site-packages\\matplotlib\\__init__.py:805: MatplotlibDeprecationWarning: axes.hold is deprecated. Please remove it from your matplotlibrc and/or style files.\n",
      "  mplDeprecation)\n",
      "C:\\Pythoni\\Anaconda3\\lib\\site-packages\\matplotlib\\rcsetup.py:155: MatplotlibDeprecationWarning: axes.hold is deprecated, will be removed in 3.0\n",
      "  mplDeprecation)\n"
     ]
    },
    {
     "data": {
      "text/plain": [
       "Text(0,0.5,'Substation power (kW)')"
      ]
     },
     "execution_count": 12,
     "metadata": {},
     "output_type": "execute_result"
    },
    {
     "data": {
      "image/png": "[encoded data removed]",
      "text/plain": [
       "<matplotlib.figure.Figure at 0x1cc9aafadd8>"
      ]
     },
     "metadata": {},
     "output_type": "display_data"
    }
   ],
   "source": [
    "Substation1 = griddispatchresult.iloc[0,2:]\n",
    "Substation2 = griddispatchresult.iloc[1,2:]\n",
    "time = np.arange(1,25)\n",
    "\n",
    "fig, axes = plt.subplots(nrows=1, ncols=1)  ## create a subplot\n",
    "\n",
    "# ## plot substation power (kW)\n",
    "axes.plot(time, Substation1, 'r--', label = 'Substation 1 feeder' )        ### sub 1\n",
    "plt.hold(True)\n",
    "axes.plot(time, Substation2, 'g', label = 'Substation 2 feeder' )       ### sub 2\n",
    "axes.legend(loc=\"upper right\")       \n",
    "axes.set_xticks([1,4,8,12,16,20,24])\n",
    "axes.set_xticklabels(['1','4','8','12','16','20','24'])\n",
    "axes.set_ylim([0, 1.1*max([max(Substation1),max(Substation2)])])\n",
    "axes.set_xlabel('time(hour)')\n",
    "axes.set_ylabel('Substation power (kW)')\n"
   ]
  },
  {
   "cell_type": "code",
   "execution_count": 16,
   "metadata": {},
   "outputs": [
    {
     "data": {
      "text/html": [
       "<div>\n",
       "<style scoped>\n",
       "    .dataframe tbody tr th:only-of-type {\n",
       "        vertical-align: middle;\n",
       "    }\n",
       "\n",
       "    .dataframe tbody tr th {\n",
       "        vertical-align: top;\n",
       "    }\n",
       "\n",
       "    .dataframe thead th {\n",
       "        text-align: right;\n",
       "    }\n",
       "</style>\n",
       "<table border=\"1\" class=\"dataframe\">\n",
       "  <thead>\n",
       "    <tr style=\"text-align: right;\">\n",
       "      <th></th>\n",
       "      <th>ihour</th>\n",
       "      <th>busno</th>\n",
       "      <th>DemandResponse</th>\n",
       "    </tr>\n",
       "  </thead>\n",
       "  <tbody>\n",
       "    <tr>\n",
       "      <th>0</th>\n",
       "      <td>17</td>\n",
       "      <td>122</td>\n",
       "      <td>1429.700</td>\n",
       "    </tr>\n",
       "    <tr>\n",
       "      <th>1</th>\n",
       "      <td>16</td>\n",
       "      <td>105</td>\n",
       "      <td>677.190</td>\n",
       "    </tr>\n",
       "    <tr>\n",
       "      <th>2</th>\n",
       "      <td>18</td>\n",
       "      <td>232</td>\n",
       "      <td>571.586</td>\n",
       "    </tr>\n",
       "  </tbody>\n",
       "</table>\n",
       "</div>"
      ],
      "text/plain": [
       "   ihour  busno  DemandResponse\n",
       "0     17    122        1429.700\n",
       "1     16    105         677.190\n",
       "2     18    232         571.586"
      ]
     },
     "execution_count": 16,
     "metadata": {},
     "output_type": "execute_result"
    }
   ],
   "source": [
    "loaddemandresponseresult"
   ]
  },
  {
   "cell_type": "code",
   "execution_count": 133,
   "metadata": {},
   "outputs": [
    {
     "data": {
      "image/png": "[encoded data removed]",
      "text/plain": [
       "<matplotlib.figure.Figure at 0x214c0e150f0>"
      ]
     },
     "metadata": {},
     "output_type": "display_data"
    }
   ],
   "source": [
    "##### loads after DR #####\n",
    "loadafterdrresult['P'] =  loadafterdrresult[['PA','PB','PC']].sum(1)\n",
    "loadafterdrresult['Q'] =  loadafterdrresult[['QA','QB','QC']].sum(1)\n",
    "Busno = list(loadafterdrresult['BusNo'].unique())    ### list of unique buses\n",
    "time = np.arange(1,25)\n",
    "dailyloadP = []\n",
    "dailyloadQ = []\n",
    "for val in np.arange(1,25):\n",
    "    dailyloadP.append(loadinput[loadafterdrresult['iHour']==val]['P'].sum())\n",
    "    dailyloadQ.append(loadinput[loadafterdrresult['iHour']==val]['Q'].sum())\n",
    "aftdailyP = dailyloadP\n",
    "aftdailyQ = dailyloadQ\n",
    "fig, axes = plt.subplots(nrows=1, ncols=2)  ## create a subplot\n",
    "## plot daily load (kW)\n",
    "axes[0].plot(time, aftdailyP)\n",
    "axes[0].set_ylim([0, 1.1*max(aftdailyP)])\n",
    "axes[0].set_xlabel('time(hour)')\n",
    "axes[0].set_ylabel('Load active power (kW)')\n",
    "\n",
    "axes[1].plot(time, aftdailyQ)\n",
    "axes[1].set_ylim([0, 1.1*max(aftdailyQ)])\n",
    "axes[1].set_xlabel('time(hour)')\n",
    "axes[1].set_ylabel('Load reactive power (kVAr)')\n",
    "\n",
    "plt.tight_layout()"
   ]
  },
  {
   "cell_type": "code",
   "execution_count": 131,
   "metadata": {},
   "outputs": [
    {
     "data": {
      "text/plain": [
       "[104,\n",
       " 105,\n",
       " 106,\n",
       " 107,\n",
       " 109,\n",
       " 110,\n",
       " 114,\n",
       " 120,\n",
       " 122,\n",
       " 127,\n",
       " 129,\n",
       " 205,\n",
       " 207,\n",
       " 213,\n",
       " 215,\n",
       " 216,\n",
       " 217,\n",
       " 218,\n",
       " 222,\n",
       " 223,\n",
       " 224,\n",
       " 225,\n",
       " 227,\n",
       " 228,\n",
       " 232]"
      ]
     },
     "execution_count": 131,
     "metadata": {},
     "output_type": "execute_result"
    }
   ],
   "source": []
  },
  {
   "cell_type": "code",
   "execution_count": 113,
   "metadata": {},
   "outputs": [],
   "source": [
    "Busno = list(loadinput['BusNo'].unique())\n",
    "time = np.arange(1,25)\n",
    "dailyloadP = []\n",
    "dailyloadQ = []\n",
    "for val in np.arange(1,25):\n",
    "    dailyloadP.append(loadinput[loadinput['iHour']==val]['P'].sum())\n",
    "    dailyloadQ.append(loadinput[loadinput['iHour']==val]['Q'].sum())"
   ]
  },
  {
   "cell_type": "code",
   "execution_count": 119,
   "metadata": {},
   "outputs": [
    {
     "data": {
      "image/png": "[encoded data removed]",
      "text/plain": [
       "<matplotlib.figure.Figure at 0x214c59a56a0>"
      ]
     },
     "metadata": {},
     "output_type": "display_data"
    }
   ],
   "source": [
    "\n",
    "fig, axes = plt.subplots(nrows=1, ncols=2)  ## create a subplot\n",
    "## plot daily load (kW)\n",
    "axes[0].plot(time, dailyloadP)\n",
    "axes[0].set_ylim([0, 1.1*max(dailyloadP)])\n",
    "axes[0].set_xlabel('time(hour)')\n",
    "axes[0].set_ylabel('Load active power (kW)')\n",
    "\n",
    "axes[1].plot(time, dailyloadQ)\n",
    "axes[1].set_ylim([0, 1.1*max(dailyloadQ)])\n",
    "axes[1].set_xlabel('time(hour)')\n",
    "axes[1].set_ylabel('Load reactive power (kVAr)')\n",
    "\n",
    "plt.tight_layout()"
   ]
  },
  {
   "cell_type": "code",
   "execution_count": 71,
   "metadata": {},
   "outputs": [
    {
     "data": {
      "text/html": [
       "<div>\n",
       "<style scoped>\n",
       "    .dataframe tbody tr th:only-of-type {\n",
       "        vertical-align: middle;\n",
       "    }\n",
       "\n",
       "    .dataframe tbody tr th {\n",
       "        vertical-align: top;\n",
       "    }\n",
       "\n",
       "    .dataframe thead th {\n",
       "        text-align: right;\n",
       "    }\n",
       "</style>\n",
       "<table border=\"1\" class=\"dataframe\">\n",
       "  <thead>\n",
       "    <tr style=\"text-align: right;\">\n",
       "      <th></th>\n",
       "      <th>SpotLoadIndex</th>\n",
       "      <th>feeder</th>\n",
       "      <th>BusNo</th>\n",
       "      <th>SpotLoadName</th>\n",
       "      <th>PA</th>\n",
       "      <th>QA</th>\n",
       "      <th>PB</th>\n",
       "      <th>QB</th>\n",
       "      <th>PC</th>\n",
       "      <th>QC</th>\n",
       "      <th>iHour</th>\n",
       "      <th>status</th>\n",
       "      <th>ECDRStatus</th>\n",
       "      <th>P</th>\n",
       "    </tr>\n",
       "  </thead>\n",
       "  <tbody>\n",
       "    <tr>\n",
       "      <th>0</th>\n",
       "      <td>1</td>\n",
       "      <td>1</td>\n",
       "      <td>104</td>\n",
       "      <td>Load104</td>\n",
       "      <td>86.82</td>\n",
       "      <td>57.88</td>\n",
       "      <td>86.82</td>\n",
       "      <td>57.88</td>\n",
       "      <td>86.82</td>\n",
       "      <td>57.88</td>\n",
       "      <td>1</td>\n",
       "      <td>1</td>\n",
       "      <td>False</td>\n",
       "      <td>260.46</td>\n",
       "    </tr>\n",
       "    <tr>\n",
       "      <th>1</th>\n",
       "      <td>1</td>\n",
       "      <td>1</td>\n",
       "      <td>104</td>\n",
       "      <td>Load104</td>\n",
       "      <td>72.93</td>\n",
       "      <td>48.62</td>\n",
       "      <td>72.93</td>\n",
       "      <td>48.62</td>\n",
       "      <td>72.93</td>\n",
       "      <td>48.62</td>\n",
       "      <td>2</td>\n",
       "      <td>1</td>\n",
       "      <td>False</td>\n",
       "      <td>218.79</td>\n",
       "    </tr>\n",
       "    <tr>\n",
       "      <th>2</th>\n",
       "      <td>1</td>\n",
       "      <td>1</td>\n",
       "      <td>104</td>\n",
       "      <td>Load104</td>\n",
       "      <td>72.93</td>\n",
       "      <td>48.62</td>\n",
       "      <td>72.93</td>\n",
       "      <td>48.62</td>\n",
       "      <td>72.93</td>\n",
       "      <td>48.62</td>\n",
       "      <td>3</td>\n",
       "      <td>1</td>\n",
       "      <td>False</td>\n",
       "      <td>218.79</td>\n",
       "    </tr>\n",
       "    <tr>\n",
       "      <th>3</th>\n",
       "      <td>1</td>\n",
       "      <td>1</td>\n",
       "      <td>104</td>\n",
       "      <td>Load104</td>\n",
       "      <td>72.93</td>\n",
       "      <td>48.62</td>\n",
       "      <td>72.93</td>\n",
       "      <td>48.62</td>\n",
       "      <td>72.93</td>\n",
       "      <td>48.62</td>\n",
       "      <td>4</td>\n",
       "      <td>1</td>\n",
       "      <td>False</td>\n",
       "      <td>218.79</td>\n",
       "    </tr>\n",
       "    <tr>\n",
       "      <th>4</th>\n",
       "      <td>1</td>\n",
       "      <td>1</td>\n",
       "      <td>104</td>\n",
       "      <td>Load104</td>\n",
       "      <td>72.93</td>\n",
       "      <td>48.62</td>\n",
       "      <td>72.93</td>\n",
       "      <td>48.62</td>\n",
       "      <td>72.93</td>\n",
       "      <td>48.62</td>\n",
       "      <td>5</td>\n",
       "      <td>1</td>\n",
       "      <td>False</td>\n",
       "      <td>218.79</td>\n",
       "    </tr>\n",
       "  </tbody>\n",
       "</table>\n",
       "</div>"
      ],
      "text/plain": [
       "   SpotLoadIndex  feeder  BusNo                    SpotLoadName     PA     QA  \\\n",
       "0              1       1    104  Load104                         86.82  57.88   \n",
       "1              1       1    104  Load104                         72.93  48.62   \n",
       "2              1       1    104  Load104                         72.93  48.62   \n",
       "3              1       1    104  Load104                         72.93  48.62   \n",
       "4              1       1    104  Load104                         72.93  48.62   \n",
       "\n",
       "      PB     QB     PC     QC  iHour  status  ECDRStatus       P  \n",
       "0  86.82  57.88  86.82  57.88      1       1       False  260.46  \n",
       "1  72.93  48.62  72.93  48.62      2       1       False  218.79  \n",
       "2  72.93  48.62  72.93  48.62      3       1       False  218.79  \n",
       "3  72.93  48.62  72.93  48.62      4       1       False  218.79  \n",
       "4  72.93  48.62  72.93  48.62      5       1       False  218.79  "
      ]
     },
     "execution_count": 71,
     "metadata": {},
     "output_type": "execute_result"
    }
   ],
   "source": [
    "loadinput.head()"
   ]
  },
  {
   "cell_type": "code",
   "execution_count": null,
   "metadata": {},
   "outputs": [],
   "source": []
  }
 ],
 "metadata": {
  "kernelspec": {
   "display_name": "Python 3",
   "language": "python",
   "name": "python3"
  },
  "language_info": {
   "codemirror_mode": {
    "name": "ipython",
    "version": 3
   },
   "file_extension": ".py",
   "mimetype": "text/x-python",
   "name": "python",
   "nbconvert_exporter": "python",
   "pygments_lexer": "ipython3",
   "version": "3.6.4"
  }
 },
 "nbformat": 4,
 "nbformat_minor": 2
}
