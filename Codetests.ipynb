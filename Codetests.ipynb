{
 "cells": [
  {
   "cell_type": "code",
   "execution_count": 34,
   "metadata": {},
   "outputs": [],
   "source": [
    "class Accidental():\n",
    "\n",
    "    ## class object attributes (true for the class in general)\n",
    "    islanding = 'Accidental'\n",
    "\n",
    "    ## attributes true to a certain instance of a class\n",
    "    def __init__(self,OPC,CBF11,CBF09,Tie,Load,CHP,PV,BESSs,Diesel,Contingency):\n",
    "        self.OPC = OPC\n",
    "        self.CBF11 = CBF11\n",
    "        self.CBF09 = CBF09\n",
    "        self.Tie = Tie\n",
    "        self.Load = Load\n",
    "        self.CHP = CHP\n",
    "        self.PV = PV\n",
    "        self.BESSs = BESSs\n",
    "        self.Diesel = Diesel\n",
    "        self.Contingency = Contingency\n",
    "\n",
    "    ## methods\n",
    "    def initialcondition(self):\n",
    "        print(\"This scenario has the following initial condition:\\ninitial operating condition = {}\\nThe status of CB-F11 switch = {}\\n\"\n",
    "              \"The status of CB-F09 switch = {}\\nThe status of Tie switch = {}\\nThe condition of Load = {}\\nThe condition of CHP generator = {}\\n\"\n",
    "              \"The condition of PV cells = {}\\nThe condition of batteries = {}\\nThe condition of diesel generator = {}\\nThe target contingency = {} \".format(self.OPC, self.CBF11,\n",
    "        self.CBF09, self.Tie, self.Load, self.CHP, self.PV, self.BESSs, self.Diesel, self.Contingency))\n",
    "\n",
    "    def __plot__(self):\n",
    "        # perform some action\n",
    "        print(self.device)"
   ]
  },
  {
   "cell_type": "code",
   "execution_count": 35,
   "metadata": {},
   "outputs": [],
   "source": [
    "test = Accidental(OPC = 'Normal1',CBF11 = 'Open',CBF09 = 'Open',Tie= 'Open',Load ='Max',CHP ='On',PV ='Off',BESSs ='Off',Diesel ='Off',Contingency =\"CBF09\" )"
   ]
  },
  {
   "cell_type": "code",
   "execution_count": 36,
   "metadata": {},
   "outputs": [
    {
     "name": "stdout",
     "output_type": "stream",
     "text": [
      "This scenario has the following initial condition:\n",
      "initial operating condition = Normal1\n",
      "The status of CB-F11 switch = Open\n",
      "The status of CB-F09 switch = Open\n",
      "The status of Tie switch = Open\n",
      "The condition of Load = Max\n",
      "The condition of CHP generator = On\n",
      "The condition of PV cells = Off\n",
      "The condition of batteries = Off\n",
      "The condition of diesel generator = Off\n",
      "The target contingency = CBF09 \n"
     ]
    }
   ],
   "source": [
    "test.initialcondition()"
   ]
  },
  {
   "cell_type": "code",
   "execution_count": null,
   "metadata": {},
   "outputs": [],
   "source": []
  },
  {
   "cell_type": "code",
   "execution_count": null,
   "metadata": {},
   "outputs": [],
   "source": []
  },
  {
   "cell_type": "code",
   "execution_count": null,
   "metadata": {},
   "outputs": [],
   "source": []
  },
  {
   "cell_type": "code",
   "execution_count": 8,
   "metadata": {},
   "outputs": [],
   "source": [
    "import pandas as pd\n",
    "import numpy as np\n",
    "import matplotlib.pyplot as plt \n",
    "%matplotlib inline"
   ]
  },
  {
   "cell_type": "code",
   "execution_count": 19,
   "metadata": {},
   "outputs": [
    {
     "data": {
      "text/plain": [
       "[<matplotlib.lines.Line2D at 0x1993dac3390>]"
      ]
     },
     "execution_count": 19,
     "metadata": {},
     "output_type": "execute_result"
    },
    {
     "data": {
      "image/png": "[encoded data removed]",
      "text/plain": [
       "<matplotlib.figure.Figure at 0x1993cfdc940>"
      ]
     },
     "metadata": {},
     "output_type": "display_data"
    }
   ],
   "source": [
    "Fileloc = 'C:\\\\Users\\\\Saeed Mohajeryami\\\\Dropbox\\\\DOE project\\\\tests\\\\3.1 AI-1.csv'\n",
    "AI1 = pd.read_csv(Fileloc)\n",
    "F_11_VrmsA = AI1['1'][1:]\n",
    "F_11_VangA = AI1['2'][1:]\n",
    "time = pd.DataFrame(np.arange(1,len(F_11_VrmsA)+1))\n",
    "fig = plt.figure()\n",
    "ax1 = fig.add_axes([0.1,0.1,0.8,0.8])\n",
    "ax1.plot(time,F_11_VrmsA)"
   ]
  },
  {
   "cell_type": "code",
   "execution_count": 95,
   "metadata": {},
   "outputs": [
    {
     "data": {
      "image/png": "[encoded data removed]",
      "text/plain": [
       "<matplotlib.figure.Figure at 0x19944ecdc50>"
      ]
     },
     "metadata": {},
     "output_type": "display_data"
    }
   ],
   "source": [
    "F_11_VrmsA = AI1['1'][1:]\n",
    "F_11_VangA = AI1['2'][1:]\n",
    "F_11_VrmsB = AI1['3'][1:]\n",
    "F_11_VangB = AI1['4'][1:]\n",
    "F_11_VrmsC = AI1['5'][1:]\n",
    "F_11_VangC = AI1['6'][1:]\n",
    "fig, axes=plt.subplots(nrows=2,ncols=3)\n",
    "\n",
    "## plot Phase A rms value\n",
    "axes[0,0].plot(time,F_11_VrmsA.apply(lambda x: int(x)/100))\n",
    "axes[0,0].set_xlim([0,300])\n",
    "axes[0,0].set_ylim([0.7,1.3])\n",
    "axes[0,0].set_xlabel('time(sec)')\n",
    "axes[0,0].set_ylabel('Phase A rms value')\n",
    "\n",
    "## plot Phase A phase angle\n",
    "axes[1,0].plot(time,F_11_VangA.apply(lambda x: int(x)/100))\n",
    "axes[1,0].set_xlim([0,300])\n",
    "axes[1,0].set_xlabel('time(sec)')\n",
    "axes[1,0].set_ylabel('Phase A phase angle')\n",
    "\n",
    "## plot Phase B rms value\n",
    "axes[0,1].plot(time,F_11_VrmsB.apply(lambda x: int(x)/100))\n",
    "axes[0,1].set_xlim([0,300])\n",
    "axes[0,1].set_ylim([0.7,1.3])\n",
    "axes[0,1].set_xlabel('time(sec)')\n",
    "axes[0,1].set_ylabel('Phase B rms value')\n",
    "\n",
    "## plot Phase B phase angle\n",
    "axes[1,1].plot(time,F_11_VangB.apply(lambda x: int(x)/100))\n",
    "axes[1,1].set_xlim([0,300])\n",
    "axes[1,1].set_xlabel('time(sec)')\n",
    "axes[1,1].set_ylabel('Phase B phase angle')\n",
    "\n",
    "## plot Phase C rms value\n",
    "axes[0,2].plot(time,F_11_VrmsC.apply(lambda x: int(x)/100))\n",
    "axes[0,2].set_xlim([0,300])\n",
    "axes[0,2].set_ylim([0.7,1.3])\n",
    "axes[0,2].set_xlabel('time(sec)')\n",
    "axes[0,2].set_ylabel('Phase C rms value')\n",
    "\n",
    "## plot Phase C phase angle\n",
    "axes[1,2].plot(time,F_11_VangC.apply(lambda x: int(x)/100))\n",
    "axes[1,2].set_xlim([0,300])\n",
    "axes[1,2].set_xlabel('time(sec)')\n",
    "axes[1,2].set_ylabel('Phase C phase angle')\n",
    "\n",
    "\n",
    "plt.tight_layout()"
   ]
  },
  {
   "cell_type": "code",
   "execution_count": null,
   "metadata": {},
   "outputs": [],
   "source": []
  },
  {
   "cell_type": "code",
   "execution_count": 174,
   "metadata": {},
   "outputs": [],
   "source": [
    "import numpy as np\n",
    "import pandas as pd\n",
    "import matplotlib.pyplot as plt\n",
    "import seaborn as sns\n",
    "\n",
    "# read the info from HR info excel file\n",
    "infoloc = \"C:\\\\Users\\\\Saeed Mohajeryami\\\\Dropbox\\\\DOE project\\\\Data from Dr\\\\BCM HIL PI Point List Draft 1 - 20161108.xlsx\"\n",
    "measurement = pd.read_excel(infoloc,sheet_name='Measurement')\n",
    "status = pd.read_excel(infoloc,sheet_name='Status (feedback)')\n",
    "setpoint = pd.read_excel(infoloc,sheet_name='Setpoint')\n",
    "commands = pd.read_excel(infoloc,sheet_name='Commands')"
   ]
  },
  {
   "cell_type": "code",
   "execution_count": 263,
   "metadata": {},
   "outputs": [],
   "source": [
    "devicelist = measurement['Measurement Name'].str.split('_',2).tolist()\n",
    "hrlist = measurement['HR Number']\n",
    "device = 'F'\n",
    "number = 11\n",
    "hr_list = []\n",
    "\n",
    "for val in np.arange(0,len(devicelist)):\n",
    "    if str(devicelist[val]) == 'nan':\n",
    "        pass\n",
    "    elif devicelist[val][0] == device and devicelist[val][1] == str(number):\n",
    "        hr_list.append(hrlist[val])"
   ]
  },
  {
   "cell_type": "code",
   "execution_count": 268,
   "metadata": {},
   "outputs": [
    {
     "data": {
      "text/plain": [
       "['CHP', 'VrmsA']"
      ]
     },
     "execution_count": 268,
     "metadata": {},
     "output_type": "execute_result"
    }
   ],
   "source": [
    "devicelist[744]"
   ]
  },
  {
   "cell_type": "code",
   "execution_count": 272,
   "metadata": {},
   "outputs": [
    {
     "data": {
      "text/plain": [
       "Text(0,0.5,'CHP fuel (f^3')"
      ]
     },
     "execution_count": 272,
     "metadata": {},
     "output_type": "execute_result"
    },
    {
     "data": {
      "image/png": "[encoded data removed]",
      "text/plain": [
       "<matplotlib.figure.Figure at 0x19945060278>"
      ]
     },
     "metadata": {},
     "output_type": "display_data"
    }
   ],
   "source": [
    "# plotting generation resources\n",
    "\n",
    "\n",
    "## import libraries\n",
    "import numpy as np\n",
    "import pandas as pd\n",
    "import matplotlib.pyplot as plt\n",
    "%matplotlib inline\n",
    "\n",
    "        # print(path)\n",
    "        # read the info from HR info excel file\n",
    "infoloc = \"C:\\\\Users\\\\Saeed Mohajeryami\\\\Dropbox\\\\DOE project\\\\Data from Dr\\\\BCM HIL PI Point List Draft 1 - 20161108.xlsx\"\n",
    "measurement = pd.read_excel(infoloc, sheet_name='Measurement')\n",
    "        ### read AI1 data set\n",
    "Fileloc = \"C:\\\\Users\\\\Saeed Mohajeryami\\\\Dropbox\\\\DOE project\\\\tests\\\\3.1 AI-1.csv\"\n",
    "AI1 = pd.read_csv(Fileloc)\n",
    "\n",
    "        ## creating a dataset of desired values to be plotted\n",
    "CHPP = AI1[str(730)][1:]\n",
    "CHPQ = AI1[str(731)][1:]\n",
    "CHPS = AI1[str(732)][1:]\n",
    "CHPF = AI1[str(733)][1:]\n",
    "time = pd.DataFrame(np.arange(1, len(CHPP) + 1))\n",
    "\n",
    "        ############# plotting voltage  #############\n",
    "fig, axes = plt.subplots(nrows=2, ncols=2)  ## create a subplot\n",
    "        # st = fig.suptitle(\"F_11 Breaker Voltage\", fontsize=\"x-large\")\n",
    "\n",
    "        ## plot CHP kW\n",
    "axes[0, 0].plot(time, CHPP.apply(lambda x: int(x) / 1))\n",
    "axes[0, 0].set_xlim([0, 300])\n",
    "        #axes[0, 0].set_ylim([0.7, 1.3])\n",
    "axes[0, 0].set_xlabel('time(sec)')\n",
    "axes[0, 0].set_ylabel('CHP active power (kW)')\n",
    "\n",
    "        ## plot CHP kVAr\n",
    "axes[0, 1].plot(time, CHPQ.apply(lambda x: int(x) / 1))\n",
    "axes[0, 1].set_xlim([0, 300])\n",
    "axes[0, 1].set_xlabel('time(sec)')\n",
    "axes[0, 1].set_ylabel('CHP reactive power (kVAr)')\n",
    "\n",
    "        ## plot CHP Speed\n",
    "axes[1, 0].plot(time, CHPS.apply(lambda x: int(x) / 100))\n",
    "axes[1, 0].set_xlim([0, 300])\n",
    "        #axes[0, 1].set_ylim([0.7, 1.3])\n",
    "axes[1, 0].set_xlabel('time(sec)')\n",
    "axes[1, 0].set_ylabel('CHP speed (rad/sec)')\n",
    "\n",
    "        ## plot CHP fuel\n",
    "axes[1, 1].plot(time, CHPF.apply(lambda x: int(x) / 100))\n",
    "axes[1, 1].set_xlim([0, 300])\n",
    "axes[1, 1].set_xlabel('time(sec)')\n",
    "axes[1, 1].set_ylabel('CHP fuel (f^3')"
   ]
  },
  {
   "cell_type": "code",
   "execution_count": 276,
   "metadata": {},
   "outputs": [
    {
     "data": {
      "text/plain": [
       "0      CHP_Fuel\n",
       "1             0\n",
       "2             0\n",
       "3             0\n",
       "4             0\n",
       "5             0\n",
       "6             0\n",
       "7             0\n",
       "8             0\n",
       "9             0\n",
       "10            0\n",
       "11            0\n",
       "12            0\n",
       "13            0\n",
       "14            0\n",
       "15            0\n",
       "16            0\n",
       "17            0\n",
       "18            0\n",
       "19            0\n",
       "20            0\n",
       "21            0\n",
       "22            0\n",
       "23            0\n",
       "24            0\n",
       "25            0\n",
       "26            0\n",
       "27            0\n",
       "28            0\n",
       "29            0\n",
       "         ...   \n",
       "272           0\n",
       "273           0\n",
       "274           0\n",
       "275           0\n",
       "276           0\n",
       "277           0\n",
       "278           0\n",
       "279           0\n",
       "280           0\n",
       "281           0\n",
       "282           0\n",
       "283           0\n",
       "284           0\n",
       "285           0\n",
       "286           0\n",
       "287           0\n",
       "288           0\n",
       "289           0\n",
       "290           0\n",
       "291           0\n",
       "292           0\n",
       "293           0\n",
       "294           0\n",
       "295           0\n",
       "296           0\n",
       "297           0\n",
       "298           0\n",
       "299           0\n",
       "300           0\n",
       "301           0\n",
       "Name: 733, Length: 302, dtype: object"
      ]
     },
     "execution_count": 276,
     "metadata": {},
     "output_type": "execute_result"
    }
   ],
   "source": [
    "AI1['733']\n",
    "    "
   ]
  },
  {
   "cell_type": "code",
   "execution_count": null,
   "metadata": {},
   "outputs": [],
   "source": []
  },
  {
   "cell_type": "code",
   "execution_count": null,
   "metadata": {},
   "outputs": [],
   "source": []
  },
  {
   "cell_type": "code",
   "execution_count": null,
   "metadata": {},
   "outputs": [],
   "source": []
  }
 ],
 "metadata": {
  "kernelspec": {
   "display_name": "Python 3",
   "language": "python",
   "name": "python3"
  },
  "language_info": {
   "codemirror_mode": {
    "name": "ipython",
    "version": 3
   },
   "file_extension": ".py",
   "mimetype": "text/x-python",
   "name": "python",
   "nbconvert_exporter": "python",
   "pygments_lexer": "ipython3",
   "version": "3.6.4"
  }
 },
 "nbformat": 4,
 "nbformat_minor": 2
}
