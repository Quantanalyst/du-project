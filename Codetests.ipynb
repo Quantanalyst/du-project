{
 "cells": [
  {
   "cell_type": "code",
   "execution_count": 34,
   "metadata": {},
   "outputs": [],
   "source": [
    "class Accidental():\n",
    "\n",
    "    ## class object attributes (true for the class in general)\n",
    "    islanding = 'Accidental'\n",
    "\n",
    "    ## attributes true to a certain instance of a class\n",
    "    def __init__(self,OPC,CBF11,CBF09,Tie,Load,CHP,PV,BESSs,Diesel,Contingency):\n",
    "        self.OPC = OPC\n",
    "        self.CBF11 = CBF11\n",
    "        self.CBF09 = CBF09\n",
    "        self.Tie = Tie\n",
    "        self.Load = Load\n",
    "        self.CHP = CHP\n",
    "        self.PV = PV\n",
    "        self.BESSs = BESSs\n",
    "        self.Diesel = Diesel\n",
    "        self.Contingency = Contingency\n",
    "\n",
    "    ## methods\n",
    "    def initialcondition(self):\n",
    "        print(\"This scenario has the following initial condition:\\ninitial operating condition = {}\\nThe status of CB-F11 switch = {}\\n\"\n",
    "              \"The status of CB-F09 switch = {}\\nThe status of Tie switch = {}\\nThe condition of Load = {}\\nThe condition of CHP generator = {}\\n\"\n",
    "              \"The condition of PV cells = {}\\nThe condition of batteries = {}\\nThe condition of diesel generator = {}\\nThe target contingency = {} \".format(self.OPC, self.CBF11,\n",
    "        self.CBF09, self.Tie, self.Load, self.CHP, self.PV, self.BESSs, self.Diesel, self.Contingency))\n",
    "\n",
    "    def __plot__(self):\n",
    "        # perform some action\n",
    "        print(self.device)"
   ]
  },
  {
   "cell_type": "code",
   "execution_count": 35,
   "metadata": {},
   "outputs": [],
   "source": [
    "test = Accidental(OPC = 'Normal1',CBF11 = 'Open',CBF09 = 'Open',Tie= 'Open',Load ='Max',CHP ='On',PV ='Off',BESSs ='Off',Diesel ='Off',Contingency =\"CBF09\" )"
   ]
  },
  {
   "cell_type": "code",
   "execution_count": 36,
   "metadata": {},
   "outputs": [
    {
     "name": "stdout",
     "output_type": "stream",
     "text": [
      "This scenario has the following initial condition:\n",
      "initial operating condition = Normal1\n",
      "The status of CB-F11 switch = Open\n",
      "The status of CB-F09 switch = Open\n",
      "The status of Tie switch = Open\n",
      "The condition of Load = Max\n",
      "The condition of CHP generator = On\n",
      "The condition of PV cells = Off\n",
      "The condition of batteries = Off\n",
      "The condition of diesel generator = Off\n",
      "The target contingency = CBF09 \n"
     ]
    }
   ],
   "source": [
    "test.initialcondition()"
   ]
  },
  {
   "cell_type": "code",
   "execution_count": null,
   "metadata": {},
   "outputs": [],
   "source": []
  }
 ],
 "metadata": {
  "kernelspec": {
   "display_name": "Python 3",
   "language": "python",
   "name": "python3"
  },
  "language_info": {
   "codemirror_mode": {
    "name": "ipython",
    "version": 3
   },
   "file_extension": ".py",
   "mimetype": "text/x-python",
   "name": "python",
   "nbconvert_exporter": "python",
   "pygments_lexer": "ipython3",
   "version": "3.6.4"
  }
 },
 "nbformat": 4,
 "nbformat_minor": 2
}
